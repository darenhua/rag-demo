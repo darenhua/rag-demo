{
 "cells": [
  {
   "attachments": {},
   "cell_type": "markdown",
   "metadata": {},
   "source": [
    "## Building the Corpus"
   ]
  },
  {
   "attachments": {},
   "cell_type": "markdown",
   "metadata": {},
   "source": [
    "# Data collection"
   ]
  },
  {
   "attachments": {},
   "cell_type": "markdown",
   "metadata": {},
   "source": [
    "## Scrap data"
   ]
  },
  {
   "attachments": {},
   "cell_type": "markdown",
   "metadata": {},
   "source": [
    "Install packages"
   ]
  },
  {
   "cell_type": "code",
   "execution_count": 97,
   "metadata": {},
   "outputs": [],
   "source": [
    "from bs4 import BeautifulSoup\n",
    "import requests\n",
    "import pandas as pd"
   ]
  },
  {
   "cell_type": "code",
   "execution_count": 98,
   "metadata": {},
   "outputs": [],
   "source": [
    "# Create a list containing all of the sections of react.dev/learn/describing-the-ui\n",
    "section_urls = [\"https://react.dev/learn/your-first-component\",\n",
    "                \"https://react.dev/learn/importing-and-exporting-components\",\n",
    "                \"https://react.dev/learn/writing-markup-with-jsx\",\n",
    "                \"https://react.dev/learn/javascript-in-jsx-with-curly-braces\",\n",
    "                \"https://react.dev/learn/passing-props-to-a-component\",\n",
    "                \"https://react.dev/learn/conditional-rendering\",\n",
    "                \"https://react.dev/learn/rendering-lists\",\n",
    "                \"https://react.dev/learn/keeping-components-pure\",\n",
    "                \"https://react.dev/learn/understanding-your-ui-as-a-tree\"]"
   ]
  },
  {
   "cell_type": "code",
   "execution_count": 99,
   "metadata": {},
   "outputs": [],
   "source": [
    "# Define the column names\n",
    "columns = [\"_id\", \"subsectionTitle\", \"url\", \"content\", \"codeSnippets\", \"relatedLinks\",\"metadata\"]\n",
    "# Creating a dataframe that stores all of the content\n",
    "df = pd.DataFrame(columns = columns)"
   ]
  },
  {
   "attachments": {},
   "cell_type": "markdown",
   "metadata": {},
   "source": [
    "### Appending urls and subheadings"
   ]
  },
  {
   "cell_type": "code",
   "execution_count": 100,
   "metadata": {},
   "outputs": [],
   "source": [
    "# Function to scrape all of the subheadings of a page and return a list of all of the subheadings\n",
    "def store_subheadings(url):\n",
    "    # Fetch and parse the HTML content\n",
    "    response = requests.get(url)\n",
    "    soup = BeautifulSoup(response.content, 'html.parser')\n",
    "\n",
    "    # Find_all subheadings <h2>\n",
    "    h2s = soup.find_all(\"h2\", class_ = \"mdx-heading text-3xl font-display leading-10 text-primary dark:text-primary-dark font-bold my-6\")\n",
    "\n",
    "    # Initiliaze list of h2 text\n",
    "    cleaned_h2 = []\n",
    "    for h2 in h2s:\n",
    "        cleaned_h2.append(h2.text)\n",
    "    \n",
    "    return cleaned_h2"
   ]
  },
  {
   "cell_type": "code",
   "execution_count": 133,
   "metadata": {},
   "outputs": [],
   "source": [
    "# Append urls and subheadings to df\n",
    "def append_to_df(url_list, appended_df):\n",
    "    for i in range(len(url_list)):\n",
    "        subheadings = store_subheadings(url_list[i])\n",
    "        # create a temporary df from the subheadings list \n",
    "        temp_df = pd.DataFrame({\n",
    "            'subsectionTitle': subheadings,\n",
    "            'url': [url_list[i]] * len(subheadings)\n",
    "        })\n",
    "        # Concat temp_df with original df\n",
    "        appended_df = pd.concat([appended_df, temp_df], ignore_index=True)\n",
    "    return appended_df"
   ]
  },
  {
   "cell_type": "code",
   "execution_count": 134,
   "metadata": {},
   "outputs": [],
   "source": [
    "df1 = df.copy()\n",
    "df1 = (append_to_df(section_urls, df1))\n"
   ]
  },
  {
   "cell_type": "code",
   "execution_count": 162,
   "metadata": {},
   "outputs": [],
   "source": [
    "# def retrieve_content(url, df):\n",
    "#     # Fetch and parse the HTML content\n",
    "#     response = requests.get(url)\n",
    "#     soup = BeautifulSoup(response.content, 'html.parser')\n",
    "\n",
    "#     # Find all h2 tags\n",
    "#     h2s = soup.find_all(\"h2\", class_=\"mdx-heading text-3xl font-display leading-10 text-primary dark:text-primary-dark font-bold my-6\")\n",
    "#     for h2 in h2s:\n",
    "#         # Initialize an empty list to hold the text of p tags following the current h2\n",
    "#         p_texts = []\n",
    "#         # Find the next sibling of h2 that is a p tag\n",
    "#         next_p = h2.find_next_sibling(\"p\")\n",
    "#         while next_p:\n",
    "#             p_texts.append(next_p.text)\n",
    "#             next_p = next_p.find_next_sibling(\"p\")  # Continue to find the next p tag\n",
    "\n",
    "#         # Create a temporary df from the collected p texts\n",
    "#         temp_df = pd.DataFrame({\n",
    "#             'content': p_texts\n",
    "#         })\n",
    "#         # Concat temp_df with df\n",
    "#         df = pd.concat([df, temp_df], ignore_index=True)\n",
    "#     return df\n"
   ]
  },
  {
   "cell_type": "code",
   "execution_count": 170,
   "metadata": {},
   "outputs": [],
   "source": [
    "def retrieve_content(url, current_df):\n",
    "    response = requests.get(url)\n",
    "    soup = BeautifulSoup(response.content, 'html.parser')\n",
    "    \n",
    "    h2s = soup.find_all(\"h2\", class_=\"mdx-heading text-3xl font-display leading-10 text-primary dark:text-primary-dark font-bold my-6\")\n",
    "    \n",
    "    for h2 in h2s:\n",
    "        # Find the next siblings that are <p> tags\n",
    "        p_tags = h2.find_next_siblings(\"p\", class_=\"whitespace-pre-wrap my-4\")\n",
    "        \n",
    "        # Extract the text from each <p> tag\n",
    "        content = ' '.join([p.text for p in p_tags])\n",
    "        \n",
    "        # Logic to match and update the current_df with new content\n",
    "        # This step depends on your DataFrame structure and how you identify which row to update\n",
    "        # Example: Assume we match by the h2 text (assuming it's unique and exists as a column in current_df)\n",
    "        h2_text = h2.text\n",
    "        current_df.loc[current_df['subsectionTitle'] == h2_text, 'content'] = content\n",
    "    \n",
    "    return current_df"
   ]
  },
  {
   "cell_type": "code",
   "execution_count": 171,
   "metadata": {},
   "outputs": [],
   "source": [
    "df2 = df1.copy()\n",
    "for url in section_urls:\n",
    "    df2 = retrieve_content(url, df1)"
   ]
  },
  {
   "cell_type": "code",
   "execution_count": 176,
   "metadata": {},
   "outputs": [
    {
     "data": {
      "text/html": [
       "<div>\n",
       "<style scoped>\n",
       "    .dataframe tbody tr th:only-of-type {\n",
       "        vertical-align: middle;\n",
       "    }\n",
       "\n",
       "    .dataframe tbody tr th {\n",
       "        vertical-align: top;\n",
       "    }\n",
       "\n",
       "    .dataframe thead th {\n",
       "        text-align: right;\n",
       "    }\n",
       "</style>\n",
       "<table border=\"1\" class=\"dataframe\">\n",
       "  <thead>\n",
       "    <tr style=\"text-align: right;\">\n",
       "      <th></th>\n",
       "      <th>_id</th>\n",
       "      <th>subsectionTitle</th>\n",
       "      <th>url</th>\n",
       "      <th>content</th>\n",
       "      <th>codeSnippets</th>\n",
       "      <th>relatedLinks</th>\n",
       "      <th>metadata</th>\n",
       "    </tr>\n",
       "  </thead>\n",
       "  <tbody>\n",
       "    <tr>\n",
       "      <th>0</th>\n",
       "      <td>NaN</td>\n",
       "      <td>Components: UI building blocks</td>\n",
       "      <td>https://react.dev/learn/your-first-component</td>\n",
       "      <td>On the Web, HTML lets us create rich structure...</td>\n",
       "      <td>NaN</td>\n",
       "      <td>NaN</td>\n",
       "      <td>NaN</td>\n",
       "    </tr>\n",
       "    <tr>\n",
       "      <th>1</th>\n",
       "      <td>NaN</td>\n",
       "      <td>Defining a component</td>\n",
       "      <td>https://react.dev/learn/your-first-component</td>\n",
       "      <td>Traditionally when creating web pages, web dev...</td>\n",
       "      <td>NaN</td>\n",
       "      <td>NaN</td>\n",
       "      <td>NaN</td>\n",
       "    </tr>\n",
       "    <tr>\n",
       "      <th>2</th>\n",
       "      <td>NaN</td>\n",
       "      <td>Using a component</td>\n",
       "      <td>https://react.dev/learn/your-first-component</td>\n",
       "      <td>Now that you’ve defined your Profile component...</td>\n",
       "      <td>NaN</td>\n",
       "      <td>NaN</td>\n",
       "      <td>NaN</td>\n",
       "    </tr>\n",
       "    <tr>\n",
       "      <th>3</th>\n",
       "      <td>NaN</td>\n",
       "      <td>Recap</td>\n",
       "      <td>https://react.dev/learn/your-first-component</td>\n",
       "      <td></td>\n",
       "      <td>NaN</td>\n",
       "      <td>NaN</td>\n",
       "      <td>NaN</td>\n",
       "    </tr>\n",
       "    <tr>\n",
       "      <th>4</th>\n",
       "      <td>NaN</td>\n",
       "      <td>The root component file</td>\n",
       "      <td>https://react.dev/learn/importing-and-exportin...</td>\n",
       "      <td>In Your First Component, you made a Profile co...</td>\n",
       "      <td>NaN</td>\n",
       "      <td>NaN</td>\n",
       "      <td>NaN</td>\n",
       "    </tr>\n",
       "  </tbody>\n",
       "</table>\n",
       "</div>"
      ],
      "text/plain": [
       "   _id                  subsectionTitle  \\\n",
       "0  NaN  Components: UI building blocks    \n",
       "1  NaN            Defining a component    \n",
       "2  NaN               Using a component    \n",
       "3  NaN                            Recap   \n",
       "4  NaN         The root component file    \n",
       "\n",
       "                                                 url  \\\n",
       "0       https://react.dev/learn/your-first-component   \n",
       "1       https://react.dev/learn/your-first-component   \n",
       "2       https://react.dev/learn/your-first-component   \n",
       "3       https://react.dev/learn/your-first-component   \n",
       "4  https://react.dev/learn/importing-and-exportin...   \n",
       "\n",
       "                                             content codeSnippets  \\\n",
       "0  On the Web, HTML lets us create rich structure...          NaN   \n",
       "1  Traditionally when creating web pages, web dev...          NaN   \n",
       "2  Now that you’ve defined your Profile component...          NaN   \n",
       "3                                                             NaN   \n",
       "4  In Your First Component, you made a Profile co...          NaN   \n",
       "\n",
       "  relatedLinks metadata  \n",
       "0          NaN      NaN  \n",
       "1          NaN      NaN  \n",
       "2          NaN      NaN  \n",
       "3          NaN      NaN  \n",
       "4          NaN      NaN  "
      ]
     },
     "execution_count": 176,
     "metadata": {},
     "output_type": "execute_result"
    }
   ],
   "source": [
    "df2.head()"
   ]
  }
 ],
 "metadata": {
  "kernelspec": {
   "display_name": "venv",
   "language": "python",
   "name": "python3"
  },
  "language_info": {
   "codemirror_mode": {
    "name": "ipython",
    "version": 3
   },
   "file_extension": ".py",
   "mimetype": "text/x-python",
   "name": "python",
   "nbconvert_exporter": "python",
   "pygments_lexer": "ipython3",
   "version": "3.10.9"
  }
 },
 "nbformat": 4,
 "nbformat_minor": 2
}
